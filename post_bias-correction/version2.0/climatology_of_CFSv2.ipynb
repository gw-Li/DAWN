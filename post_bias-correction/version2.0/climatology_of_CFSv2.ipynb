{
 "cells": [
  {
   "cell_type": "code",
   "execution_count": 1,
   "id": "849eb6e8",
   "metadata": {},
   "outputs": [
    {
     "name": "stdout",
     "output_type": "stream",
     "text": [
      "Library have loaded!\n"
     ]
    }
   ],
   "source": [
    "import sys,os\n",
    "import datetime \n",
    "import warnings\n",
    "import subprocess\n",
    "import numpy        as np\n",
    "import pandas       as pd\n",
    "import xarray       as xr\n",
    "print('Library have loaded!')"
   ]
  },
  {
   "cell_type": "code",
   "execution_count": 3,
   "id": "62698ce1",
   "metadata": {},
   "outputs": [],
   "source": [
    "## Information of path and loop index\n",
    "path_cfs_monthly  = '/Volumes/ssd3/DATA/CFS/regrid_full_monthly/'\n",
    "path_climatology  = '/Volumes/ssd3/DATA/CFS/regrid_full_monthly/climatology_2012-2023/'\n",
    "path_static       = '/Volumes/ssd3/DATA/static/'\n",
    "MASK_US           = xr.open_dataset(f'{path_static}US_MASK_logic.nc')['MASK']\n",
    "var_names         = ['T2MAX','T2MIN','PRAVG','Z500','ASWDNS']\n",
    "years             = range(2012,2023+1)\n",
    "months            = range(1,12+1)\n",
    "\n",
    "# days that CWRF hindcast runs for each month. It is the right one.\n",
    "days_per_month    = {\n",
    "    1: [ 1, 6,11,16,21,26,31],\n",
    "    2: [ 5,10,15,20,25],\n",
    "    3: [ 2, 7,12,17,22,27],\n",
    "    4: [ 1, 6,11,16,21,26],\n",
    "    5: [ 1, 6,11,16,21,26,31],\n",
    "    6: [ 5,10,15,20,25,30],\n",
    "    7: [ 5,10,15,20,25,30],\n",
    "    8: [ 4, 9,14,19,24,29],\n",
    "    9: [ 3, 8,13,18,23,28],\n",
    "    10:[ 3, 8,13,18,23,28],\n",
    "    11:[ 2, 7,12,17,22,27],\n",
    "    12:[ 2, 7,12,17,22,27],\n",
    "}\n",
    "\n",
    "month_to_delete   = {\n",
    "    1:[8,9,10,11,12],\n",
    "    2:[9,10,11,12, 1],\n",
    "    3:[10,11,12, 1, 2],\n",
    "    4:[11,12,1, 2, 3],\n",
    "    5:[12,1,2, 3, 4],\n",
    "    6:[1,2,3, 4, 5],\n",
    "    7:[2,3,4, 5, 6],\n",
    "    8:[3,4,5, 6, 7],\n",
    "    9:[4,5,6, 7, 8],\n",
    "    10:[5,6,7,8, 9],\n",
    "    11:[6,7,8,9,10],\n",
    "    12:[7,8,9,10,11],\n",
    "}\n"
   ]
  },
  {
   "cell_type": "code",
   "execution_count": 14,
   "id": "b9027b71",
   "metadata": {},
   "outputs": [
    {
     "ename": "OSError",
     "evalue": "no files to open",
     "output_type": "error",
     "traceback": [
      "\u001b[0;31m---------------------------------------------------------------------------\u001b[0m",
      "\u001b[0;31mOSError\u001b[0m                                   Traceback (most recent call last)",
      "Cell \u001b[0;32mIn[14], line 11\u001b[0m\n\u001b[1;32m      9\u001b[0m     \u001b[38;5;28;01mif\u001b[39;00m os\u001b[38;5;241m.\u001b[39mpath\u001b[38;5;241m.\u001b[39mexists(file_name):\n\u001b[1;32m     10\u001b[0m         list_files\u001b[38;5;241m.\u001b[39mappend(file_name)\n\u001b[0;32m---> 11\u001b[0m cfs_ds \u001b[38;5;241m=\u001b[39m \u001b[43mxr\u001b[49m\u001b[38;5;241;43m.\u001b[39;49m\u001b[43mopen_mfdataset\u001b[49m\u001b[43m(\u001b[49m\u001b[43mlist_files\u001b[49m\u001b[43m)\u001b[49m\n\u001b[1;32m     12\u001b[0m \u001b[38;5;66;03m# Delete redundent coords\u001b[39;00m\n\u001b[1;32m     13\u001b[0m \u001b[38;5;28;01mif\u001b[39;00m \u001b[38;5;124m'\u001b[39m\u001b[38;5;124mheightAboveGround\u001b[39m\u001b[38;5;124m'\u001b[39m \u001b[38;5;129;01min\u001b[39;00m cfs_ds\u001b[38;5;241m.\u001b[39mcoords:\n",
      "File \u001b[0;32m~/miniconda3/lib/python3.10/site-packages/xarray/backends/api.py:1003\u001b[0m, in \u001b[0;36mopen_mfdataset\u001b[0;34m(paths, chunks, concat_dim, compat, preprocess, engine, data_vars, coords, combine, parallel, join, attrs_file, combine_attrs, **kwargs)\u001b[0m\n\u001b[1;32m   1000\u001b[0m     paths \u001b[38;5;241m=\u001b[39m [os\u001b[38;5;241m.\u001b[39mfspath(p) \u001b[38;5;28;01mif\u001b[39;00m \u001b[38;5;28misinstance\u001b[39m(p, os\u001b[38;5;241m.\u001b[39mPathLike) \u001b[38;5;28;01melse\u001b[39;00m p \u001b[38;5;28;01mfor\u001b[39;00m p \u001b[38;5;129;01min\u001b[39;00m paths]\n\u001b[1;32m   1002\u001b[0m \u001b[38;5;28;01mif\u001b[39;00m \u001b[38;5;129;01mnot\u001b[39;00m paths:\n\u001b[0;32m-> 1003\u001b[0m     \u001b[38;5;28;01mraise\u001b[39;00m \u001b[38;5;167;01mOSError\u001b[39;00m(\u001b[38;5;124m\"\u001b[39m\u001b[38;5;124mno files to open\u001b[39m\u001b[38;5;124m\"\u001b[39m)\n\u001b[1;32m   1005\u001b[0m \u001b[38;5;28;01mif\u001b[39;00m combine \u001b[38;5;241m==\u001b[39m \u001b[38;5;124m\"\u001b[39m\u001b[38;5;124mnested\u001b[39m\u001b[38;5;124m\"\u001b[39m:\n\u001b[1;32m   1006\u001b[0m     \u001b[38;5;28;01mif\u001b[39;00m \u001b[38;5;28misinstance\u001b[39m(concat_dim, (\u001b[38;5;28mstr\u001b[39m, DataArray)) \u001b[38;5;129;01mor\u001b[39;00m concat_dim \u001b[38;5;129;01mis\u001b[39;00m \u001b[38;5;28;01mNone\u001b[39;00m:\n",
      "\u001b[0;31mOSError\u001b[0m: no files to open"
     ]
    }
   ],
   "source": [
    "## Calculate the climatology of CFS\n",
    "for var_name  in var_names:\n",
    "    for month in months:\n",
    "        days     = days_per_month[month]\n",
    "        for day  in days:\n",
    "            list_files = []\n",
    "            for year in years:\n",
    "                file_name = f'{path_cfs_monthly}{var_name}/CFS_full_time_{var_name}_{year}-{month:02}-{day:02}-06.nc'\n",
    "                if os.path.exists(file_name):\n",
    "                    list_files.append(file_name)\n",
    "            cfs_ds = xr.open_mfdataset(list_files)\n",
    "            # Delete redundent coords\n",
    "            if 'heightAboveGround' in cfs_ds.coords:\n",
    "                cfs_ds      = cfs_ds.reset_coords('heightAboveGround',drop=True)\n",
    "            # Calculate the climatology\n",
    "            cfs_climatology = cfs_ds.groupby('time.month').mean(dim='time')\n",
    "            # Drop month which NOAA not released for downscaling\n",
    "            filtered_climatology = cfs_climatology.sel(month=~cfs_climatology.month.isin(month_to_delete[month]))\n",
    "            # Save the data to local disk\n",
    "            filtered_climatology.to_netcdf(f'{path_climatology}/CFS_climatology_{var_name}_{years[0]}-{years[-1]}_{month:02}{day:02}-06.nc')"
   ]
  },
  {
   "cell_type": "code",
   "execution_count": null,
   "id": "a9cce7e8",
   "metadata": {},
   "outputs": [],
   "source": []
  }
 ],
 "metadata": {
  "kernelspec": {
   "display_name": "Python 3 (ipykernel)",
   "language": "python",
   "name": "python3"
  },
  "language_info": {
   "codemirror_mode": {
    "name": "ipython",
    "version": 3
   },
   "file_extension": ".py",
   "mimetype": "text/x-python",
   "name": "python",
   "nbconvert_exporter": "python",
   "pygments_lexer": "ipython3",
   "version": "3.10.11"
  }
 },
 "nbformat": 4,
 "nbformat_minor": 5
}
